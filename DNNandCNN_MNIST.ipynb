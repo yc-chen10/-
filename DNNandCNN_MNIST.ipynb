{
  "nbformat": 4,
  "nbformat_minor": 0,
  "metadata": {
    "colab": {
      "provenance": [],
      "authorship_tag": "ABX9TyMYJQL5E+ONl/uiSi918Fh4",
      "include_colab_link": true
    },
    "kernelspec": {
      "name": "python3",
      "display_name": "Python 3"
    },
    "language_info": {
      "name": "python"
    }
  },
  "cells": [
    {
      "cell_type": "markdown",
      "metadata": {
        "id": "view-in-github",
        "colab_type": "text"
      },
      "source": [
        "<a href=\"https://colab.research.google.com/github/yc-chen10/-/blob/main/DNNandCNN_MNIST.ipynb\" target=\"_parent\"><img src=\"https://colab.research.google.com/assets/colab-badge.svg\" alt=\"Open In Colab\"/></a>"
      ]
    },
    {
      "cell_type": "code",
      "execution_count": null,
      "metadata": {
        "colab": {
          "base_uri": "https://localhost:8080/"
        },
        "id": "7wn7Hy9khPnW",
        "outputId": "a50424ce-6d2f-4620-8321-a737049a3cca"
      },
      "outputs": [
        {
          "output_type": "stream",
          "name": "stdout",
          "text": [
            "Downloading data from https://storage.googleapis.com/tensorflow/tf-keras-datasets/mnist.npz\n",
            "11490434/11490434 [==============================] - 0s 0us/step\n",
            "Epoch 1/10\n",
            "375/375 [==============================] - 4s 7ms/step - loss: 0.3710 - accuracy: 0.8946 - val_loss: 0.1785 - val_accuracy: 0.9502\n",
            "Epoch 2/10\n",
            "375/375 [==============================] - 1s 4ms/step - loss: 0.1503 - accuracy: 0.9567 - val_loss: 0.1232 - val_accuracy: 0.9646\n",
            "Epoch 3/10\n",
            "375/375 [==============================] - 2s 4ms/step - loss: 0.1031 - accuracy: 0.9695 - val_loss: 0.1158 - val_accuracy: 0.9660\n",
            "Epoch 4/10\n",
            "375/375 [==============================] - 2s 6ms/step - loss: 0.0800 - accuracy: 0.9759 - val_loss: 0.1019 - val_accuracy: 0.9708\n",
            "Epoch 5/10\n",
            "375/375 [==============================] - 2s 6ms/step - loss: 0.0621 - accuracy: 0.9813 - val_loss: 0.0995 - val_accuracy: 0.9707\n",
            "Epoch 6/10\n",
            "375/375 [==============================] - 3s 7ms/step - loss: 0.0514 - accuracy: 0.9839 - val_loss: 0.0934 - val_accuracy: 0.9724\n",
            "Epoch 7/10\n",
            "375/375 [==============================] - 2s 6ms/step - loss: 0.0401 - accuracy: 0.9880 - val_loss: 0.0888 - val_accuracy: 0.9747\n",
            "Epoch 8/10\n",
            "375/375 [==============================] - 2s 5ms/step - loss: 0.0328 - accuracy: 0.9904 - val_loss: 0.0862 - val_accuracy: 0.9752\n",
            "Epoch 9/10\n",
            "375/375 [==============================] - 1s 4ms/step - loss: 0.0269 - accuracy: 0.9921 - val_loss: 0.0887 - val_accuracy: 0.9753\n",
            "Epoch 10/10\n",
            "375/375 [==============================] - 1s 3ms/step - loss: 0.0215 - accuracy: 0.9940 - val_loss: 0.0909 - val_accuracy: 0.9734\n",
            "313/313 [==============================] - 0s 1ms/step - loss: 0.0826 - accuracy: 0.9765\n",
            "DNN Test Loss: 0.08260080963373184, Test Accuracy: 0.9764999747276306\n"
          ]
        }
      ],
      "source": [
        "import numpy as np\n",
        "from keras.datasets import mnist\n",
        "from keras.utils import to_categorical\n",
        "from keras.models import Sequential\n",
        "from keras.layers import Dense, Flatten\n",
        "\n",
        "# 載入MNIST數據集並預處理\n",
        "(x_train, y_train), (x_test, y_test) = mnist.load_data()\n",
        "x_train = x_train.astype('float32') / 255.0\n",
        "x_test = x_test.astype('float32') / 255.0\n",
        "x_train = x_train.reshape((x_train.shape[0], 28 * 28))\n",
        "x_test = x_test.reshape((x_test.shape[0], 28 * 28))\n",
        "y_train = to_categorical(y_train, 10)\n",
        "y_test = to_categorical(y_test, 10)\n",
        "\n",
        "# 建立DNN模型\n",
        "dnn_model = Sequential([\n",
        "    Dense(128, activation='relu', input_shape=(28 * 28,)),\n",
        "    Dense(64, activation='relu'),\n",
        "    Dense(10, activation='softmax')\n",
        "])\n",
        "\n",
        "dnn_model.compile(optimizer='adam', loss='categorical_crossentropy', metrics=['accuracy'])\n",
        "\n",
        "# 訓練DNN模型\n",
        "dnn_model.fit(x_train, y_train, batch_size=128, epochs=10, validation_split=0.2)\n",
        "\n",
        "# 評估DNN模型\n",
        "dnn_score = dnn_model.evaluate(x_test, y_test)\n",
        "print(f\"DNN Test Loss: {dnn_score[0]}, Test Accuracy: {dnn_score[1]}\")\n"
      ]
    },
    {
      "cell_type": "code",
      "source": [
        "import numpy as np\n",
        "from keras.datasets import mnist\n",
        "from keras.utils import to_categorical\n",
        "from keras.models import Sequential\n",
        "from keras.layers import Conv2D, MaxPooling2D, Flatten, Dense\n",
        "\n",
        "# 載入MNIST數據集並預處理 #'float32' 4byte 即可， 64要8byte沒有必要\n",
        "(x_train, y_train), (x_test, y_test) = mnist.load_data()\n",
        "x_train = np.expand_dims(x_train, axis=-1).astype('float32') / 255.0\n",
        "x_test = np.expand_dims(x_test, axis=-1).astype('float32') / 255.0\n",
        "y_train = to_categorical(y_train, 10)\n",
        "y_test = to_categorical(y_test, 10)\n",
        "\n",
        "# 建立CNN模型 #Covn2D 二維 Covn2D(kernel數量,kernel大小,激發函數,)\n",
        "cnn_model = Sequential([\n",
        "    Conv2D(32, kernel_size=(3, 3), activation='relu', input_shape=(28, 28, 1)),\n",
        "    MaxPooling2D(pool_size=(2, 2)),\n",
        "    Conv2D(64, kernel_size=(3, 3), activation='relu'),\n",
        "    MaxPooling2D(pool_size=(2, 2)),\n",
        "    Flatten(),\n",
        "    Dense(128, activation='relu'),\n",
        "    Dense(10, activation='softmax')\n",
        "])\n",
        "\n",
        "cnn_model.compile(optimizer='adam', loss='categorical_crossentropy', metrics=['accuracy'])\n",
        "\n",
        "#拆分訓練及 驗證及 有一個參數 ：random_state = 42 , (0-6553) 要固定種子 不然每次random權重會跑掉 就會無法重複實驗\n",
        "# 訓練CNN模型\n",
        "cnn_model.fit(x_train, y_train, batch_size=128, epochs=10, validation_split=0.2)\n",
        "\n",
        "# 評估CNN模型\n",
        "cnn_score = cnn_model.evaluate(x_test, y_test)\n",
        "print(f\"CNN Test Loss: {cnn_score[0]}, Test Accuracy: {cnn_score[1]}\")\n"
      ],
      "metadata": {
        "colab": {
          "base_uri": "https://localhost:8080/"
        },
        "id": "X3Gy5ACbZ8pt",
        "outputId": "8912027f-86d8-4a4c-c753-89cfbde78400"
      },
      "execution_count": null,
      "outputs": [
        {
          "output_type": "stream",
          "name": "stdout",
          "text": [
            "Downloading data from https://storage.googleapis.com/tensorflow/tf-keras-datasets/mnist.npz\n",
            "11490434/11490434 [==============================] - 1s 0us/step\n",
            "Epoch 1/10\n",
            "375/375 [==============================] - 50s 130ms/step - loss: 0.2476 - accuracy: 0.9279 - val_loss: 0.0904 - val_accuracy: 0.9745\n",
            "Epoch 2/10\n",
            "375/375 [==============================] - 47s 124ms/step - loss: 0.0700 - accuracy: 0.9786 - val_loss: 0.0611 - val_accuracy: 0.9811\n",
            "Epoch 3/10\n",
            "375/375 [==============================] - 47s 125ms/step - loss: 0.0467 - accuracy: 0.9852 - val_loss: 0.0476 - val_accuracy: 0.9847\n",
            "Epoch 4/10\n",
            "375/375 [==============================] - 46s 121ms/step - loss: 0.0369 - accuracy: 0.9885 - val_loss: 0.0466 - val_accuracy: 0.9868\n",
            "Epoch 5/10\n",
            "375/375 [==============================] - 51s 137ms/step - loss: 0.0295 - accuracy: 0.9912 - val_loss: 0.0455 - val_accuracy: 0.9869\n",
            "Epoch 6/10\n",
            "375/375 [==============================] - 47s 125ms/step - loss: 0.0221 - accuracy: 0.9931 - val_loss: 0.0432 - val_accuracy: 0.9875\n",
            "Epoch 7/10\n",
            "375/375 [==============================] - 54s 144ms/step - loss: 0.0184 - accuracy: 0.9941 - val_loss: 0.0362 - val_accuracy: 0.9898\n",
            "Epoch 8/10\n",
            "375/375 [==============================] - 54s 145ms/step - loss: 0.0154 - accuracy: 0.9949 - val_loss: 0.0432 - val_accuracy: 0.9888\n",
            "Epoch 9/10\n",
            "375/375 [==============================] - 51s 136ms/step - loss: 0.0126 - accuracy: 0.9959 - val_loss: 0.0442 - val_accuracy: 0.9887\n",
            "Epoch 10/10\n",
            "375/375 [==============================] - 52s 140ms/step - loss: 0.0097 - accuracy: 0.9967 - val_loss: 0.0421 - val_accuracy: 0.9896\n",
            "313/313 [==============================] - 3s 9ms/step - loss: 0.0282 - accuracy: 0.9919\n",
            "CNN Test Loss: 0.02815556712448597, Test Accuracy: 0.9919000267982483\n"
          ]
        }
      ]
    }
  ]
}